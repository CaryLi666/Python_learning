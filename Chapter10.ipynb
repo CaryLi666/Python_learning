{
 "cells": [
  {
   "cell_type": "code",
   "execution_count": 1,
   "metadata": {},
   "outputs": [
    {
     "name": "stdout",
     "output_type": "stream",
     "text": [
      "In Python you can learn dict.\n",
      "In Python you can learn list.\n"
     ]
    }
   ],
   "source": [
    "# 10-1\n",
    "filename = 'learning_python.txt'\n",
    "with open(filename) as lp:\n",
    "    contents = lp.read()\n",
    "    print(contents)"
   ]
  },
  {
   "cell_type": "code",
   "execution_count": 3,
   "metadata": {},
   "outputs": [
    {
     "name": "stdout",
     "output_type": "stream",
     "text": [
      "In Python you can learn dict.\n",
      "In Python you can learn list.\n"
     ]
    }
   ],
   "source": [
    "filename = 'learning_python.txt'\n",
    "with open(filename) as lp:\n",
    "    for line in lp:\n",
    "        print(line.rstrip())"
   ]
  },
  {
   "cell_type": "code",
   "execution_count": 4,
   "metadata": {},
   "outputs": [
    {
     "name": "stdout",
     "output_type": "stream",
     "text": [
      "In Python you can learn dict.\n",
      "In Python you can learn list.\n"
     ]
    }
   ],
   "source": [
    "filename = 'learning_python.txt'\n",
    "with open(filename) as lp:\n",
    "    lines = lp.readlines()\n",
    "    \n",
    "for line in lines:\n",
    "    print(line.rstrip())"
   ]
  },
  {
   "cell_type": "code",
   "execution_count": 7,
   "metadata": {},
   "outputs": [
    {
     "name": "stdout",
     "output_type": "stream",
     "text": [
      "In Java you can learn dict.\n",
      "In Java you can learn list.\n"
     ]
    }
   ],
   "source": [
    "# 10-2\n",
    "filename = 'learning_python.txt'\n",
    "with open(filename) as lp:\n",
    "    lines = lp.readlines()\n",
    "\n",
    "for line in lines:\n",
    "    new_line = line.replace('Python', 'Java')\n",
    "    print(new_line.rstrip())"
   ]
  },
  {
   "cell_type": "code",
   "execution_count": 10,
   "metadata": {},
   "outputs": [
    {
     "name": "stdout",
     "output_type": "stream",
     "text": [
      "Please input username：Jack\n"
     ]
    }
   ],
   "source": [
    "# 10-3\n",
    "username = input(\"Please input username：\")\n",
    "with open('username.txt', 'w') as un:\n",
    "    un.write(username)"
   ]
  },
  {
   "cell_type": "code",
   "execution_count": 4,
   "metadata": {},
   "outputs": [
    {
     "name": "stdout",
     "output_type": "stream",
     "text": [
      "Please input username：jack\n",
      "Welcome to jack\n",
      "Please input username：rose\n",
      "Welcome to rose\n",
      "Please input username：q\n",
      "Welcome to q\n"
     ]
    }
   ],
   "source": [
    "# 10-4\n",
    "while True:\n",
    "    usename = input('Please input username：')\n",
    "    print('Welcome to ' + usename)\n",
    "    \n",
    "    if usename == 'q':\n",
    "        break\n",
    "    \n",
    "    with open('username1.txt', 'a') as un_obj:\n",
    "        un_obj.write(usename + '\\n')"
   ]
  },
  {
   "cell_type": "code",
   "execution_count": 6,
   "metadata": {},
   "outputs": [
    {
     "name": "stdout",
     "output_type": "stream",
     "text": [
      "Why you like progress? Beacuse I love Java\n",
      "Why you like progress? I love Python\n",
      "Why you like progress? q\n"
     ]
    }
   ],
   "source": [
    "# 10-5\n",
    "while True:\n",
    "    reaseons = input('Why you like progress? ')\n",
    "    \n",
    "    if reaseons == 'q':\n",
    "        break\n",
    "    \n",
    "    with open('reason.txt', 'a') as rea:\n",
    "        rea.write(reaseons + '\\n')"
   ]
  },
  {
   "cell_type": "code",
   "execution_count": 10,
   "metadata": {},
   "outputs": [
    {
     "name": "stdout",
     "output_type": "stream",
     "text": [
      "请输入第一个数字：nu\n",
      "请输入第二个数字：an\n",
      "错误输入，输入应为数字，不是字符串\n"
     ]
    }
   ],
   "source": [
    "# 10-6\n",
    "num1 = input('请输入第一个数字：')\n",
    "num2 = input('请输入第二个数字：')\n",
    "try:\n",
    "    ret = int(num1) + int(num2)\n",
    "    print('和为：', ret)\n",
    "except ValueError:\n",
    "    print('错误输入，输入应为数字，不是字符串')"
   ]
  },
  {
   "cell_type": "code",
   "execution_count": 11,
   "metadata": {},
   "outputs": [
    {
     "name": "stdout",
     "output_type": "stream",
     "text": [
      "请输入第一个数字：1\n",
      "请输入第二个数字：2\n",
      "和为： 3\n",
      "请输入第一个数字：num\n",
      "请输入第二个数字：an\n",
      "错误输入，输入应为数字，不是字符串\n"
     ]
    }
   ],
   "source": [
    "# 10-7\n",
    "while True:\n",
    "    num1 = input('请输入第一个数字：')\n",
    "    num2 = input('请输入第二个数字：')\n",
    "    try:\n",
    "        ret = int(num1) + int(num2)\n",
    "        print('和为：', ret)\n",
    "    except ValueError:\n",
    "        print('错误输入，输入应为数字，不是字符串')\n",
    "        break"
   ]
  },
  {
   "cell_type": "code",
   "execution_count": 13,
   "metadata": {},
   "outputs": [
    {
     "name": "stdout",
     "output_type": "stream",
     "text": [
      "文件的内容： cat_1\n",
      "cat_2\n",
      "cat_3\n",
      "文件不存在！！！\n"
     ]
    }
   ],
   "source": [
    "# 10-8\n",
    "try:\n",
    "    filenames = ['cats.txt', 'dogs.txt']\n",
    "    for filename in filenames:\n",
    "        with open(filename, 'r') as obj:\n",
    "            content = obj.read()\n",
    "            print('文件的内容：', content)\n",
    "except FileNotFoundError:\n",
    "    print('文件不存在！！！')"
   ]
  },
  {
   "cell_type": "code",
   "execution_count": 14,
   "metadata": {},
   "outputs": [
    {
     "name": "stdout",
     "output_type": "stream",
     "text": [
      "文件的内容： cat_1\n",
      "cat_2\n",
      "cat_3\n"
     ]
    }
   ],
   "source": [
    "# 10-9\n",
    "try:\n",
    "    filenames = ['cats.txt', 'dogs.txt']\n",
    "    for filename in filenames:\n",
    "        with open(filename, 'r') as obj:\n",
    "            content = obj.read()\n",
    "            print('文件的内容：', content)\n",
    "except FileNotFoundError:\n",
    "    pass"
   ]
  },
  {
   "cell_type": "code",
   "execution_count": 17,
   "metadata": {},
   "outputs": [
    {
     "name": "stdout",
     "output_type": "stream",
     "text": [
      "6\n"
     ]
    }
   ],
   "source": [
    "# 10-10\n",
    "with open('gutenberg.txt', 'r') as obj:\n",
    "    content = obj.read()\n",
    "    num = content.lower().count('the')\n",
    "    print(num)"
   ]
  },
  {
   "cell_type": "code",
   "execution_count": 20,
   "metadata": {},
   "outputs": [
    {
     "name": "stdout",
     "output_type": "stream",
     "text": [
      "请输入你喜欢的数字：8\n"
     ]
    }
   ],
   "source": [
    "# 10-11\n",
    "import json\n",
    "filename = 'number.json'\n",
    "number = input('请输入你喜欢的数字：')\n",
    "with open(filename, 'w') as obj:\n",
    "    json.dump(number, obj)"
   ]
  },
  {
   "cell_type": "code",
   "execution_count": 22,
   "metadata": {},
   "outputs": [
    {
     "name": "stdout",
     "output_type": "stream",
     "text": [
      "8\n"
     ]
    }
   ],
   "source": [
    "with open(filename, 'r') as obj:\n",
    "    num = json.load(obj)\n",
    "    print(num)"
   ]
  },
  {
   "cell_type": "code",
   "execution_count": 24,
   "metadata": {},
   "outputs": [
    {
     "name": "stdout",
     "output_type": "stream",
     "text": [
      "输入喜欢的数字：9\n"
     ]
    }
   ],
   "source": [
    "# 10-12\n",
    "import json\n",
    "try:\n",
    "    with open('numbers.json', 'r') as obj:\n",
    "        num = json.load(obj)\n",
    "        print(num)\n",
    "except FileNotFoundError:\n",
    "    number = input('输入喜欢的数字：')\n",
    "    with open('numbers.json', 'w') as obj:\n",
    "        json.dump(number, obj)"
   ]
  },
  {
   "cell_type": "code",
   "execution_count": 27,
   "metadata": {},
   "outputs": [
    {
     "name": "stdout",
     "output_type": "stream",
     "text": [
      "当前用户名为： None\n",
      "用户名是否正确（yes or no)：no\n",
      "What is your name? jack\n",
      "We'll remember you when you come back, q!\n"
     ]
    }
   ],
   "source": [
    "# 10-13\n",
    "import json\n",
    "def get_stored_username():\n",
    "    filename = 'username.json'\n",
    "    try:\n",
    "        with open(filename) as f_obj:\n",
    "            username = json.load(f_obj)\n",
    "    except FileNotFoundError:\n",
    "        return None\n",
    "    else:\n",
    "        return username\n",
    "\n",
    "def get_new_username():\n",
    "    username = input(\"What is your name? \")\n",
    "    filename = 'username.json'\n",
    "    with open(filename, 'w') as f_obj:\n",
    "        json.dump(usename, f_obj)\n",
    "    return usename\n",
    "\n",
    "def greet_user():\n",
    "    '''问候用户，并指出其名字'''\n",
    "    username = get_stored_username()\n",
    "    print('当前用户名为：', username)\n",
    "    answer = input('用户名是否正确（yes or no)：')\n",
    "    if not answer:\n",
    "        username = get_new_username()\n",
    "    if username:\n",
    "        print(\"Welcom back, \" + username + \"!\")\n",
    "    else:\n",
    "        username = get_new_username()\n",
    "        print(\"We'll remember you when you come back, \" + username + \"!\")\n",
    "        \n",
    "greet_user()"
   ]
  },
  {
   "cell_type": "code",
   "execution_count": null,
   "metadata": {},
   "outputs": [],
   "source": []
  }
 ],
 "metadata": {
  "kernelspec": {
   "display_name": "Python 3",
   "language": "python",
   "name": "python3"
  },
  "language_info": {
   "codemirror_mode": {
    "name": "ipython",
    "version": 3
   },
   "file_extension": ".py",
   "mimetype": "text/x-python",
   "name": "python",
   "nbconvert_exporter": "python",
   "pygments_lexer": "ipython3",
   "version": "3.7.3"
  }
 },
 "nbformat": 4,
 "nbformat_minor": 2
}
