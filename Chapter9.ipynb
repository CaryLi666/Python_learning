{
 "cells": [
  {
   "cell_type": "code",
   "execution_count": 1,
   "metadata": {},
   "outputs": [
    {
     "name": "stdout",
     "output_type": "stream",
     "text": [
      "cream\n",
      "ice\n",
      "The restaurant's name is cream\n",
      "The restaurant's type is ice\n",
      "The restaurant is open!\n"
     ]
    }
   ],
   "source": [
    "# 9-1\n",
    "class Restaurant():\n",
    "    def __init__(self, name, type):\n",
    "        self.restaurant_name = name\n",
    "        self.cuisine_type = type\n",
    "    def describe_restaurant(self):\n",
    "        print(\"The restaurant's name is \" + self.restaurant_name)\n",
    "        print(\"The restaurant's type is \" + self.cuisine_type)\n",
    "    def open_restaurant(self):\n",
    "        print('The restaurant is open!')\n",
    "        \n",
    "# 创建实例\n",
    "restaurant = Restaurant('cream', 'ice')\n",
    "print(restaurant.restaurant_name)\n",
    "print(restaurant.cuisine_type)\n",
    "\n",
    "restaurant.describe_restaurant()\n",
    "restaurant.open_restaurant()"
   ]
  },
  {
   "cell_type": "code",
   "execution_count": 2,
   "metadata": {},
   "outputs": [
    {
     "name": "stdout",
     "output_type": "stream",
     "text": [
      "The restaurant's name is hello\n",
      "The restaurant's type is world\n",
      "The restaurant's name is apple\n",
      "The restaurant's type is bababa\n",
      "The restaurant's name is hello\n",
      "The restaurant's type is python\n"
     ]
    }
   ],
   "source": [
    "# 9-2\n",
    "class Restaurant():\n",
    "    def __init__(self, name, type):\n",
    "        self.restaurant_name = name\n",
    "        self.cuisine_type = type\n",
    "    def describe_restaurant(self):\n",
    "        print(\"The restaurant's name is \" + self.restaurant_name)\n",
    "        print(\"The restaurant's type is \" + self.cuisine_type)\n",
    "    def open_restaurant(self):\n",
    "        print('The restaurant is open!')\n",
    "        \n",
    "restaurant1 = Restaurant('hello', 'world')\n",
    "restaurant2 = Restaurant('apple', 'bababa')\n",
    "restaurant3 = Restaurant('hello', 'python')\n",
    "restaurant1.describe_restaurant()\n",
    "restaurant2.describe_restaurant()\n",
    "restaurant3.describe_restaurant()"
   ]
  },
  {
   "cell_type": "code",
   "execution_count": 6,
   "metadata": {},
   "outputs": [
    {
     "name": "stdout",
     "output_type": "stream",
     "text": [
      "name: Jack tom 年龄：30\n",
      "Happy a good day!Jack tom\n",
      "name: G yt 年龄：25\n",
      "Happy a good day!G yt\n"
     ]
    }
   ],
   "source": [
    "# 9-3\n",
    "class User():\n",
    "    def __init__(self, first_name, last_name, age):\n",
    "        self.first_name = first_name\n",
    "        self.last_name = last_name\n",
    "        self.age = age\n",
    "        \n",
    "    def describe_user(self):\n",
    "        print('name: ' + self.first_name + ' ' + self.last_name, '年龄：' + str(self.age))\n",
    "        \n",
    "    def greet_user(self):\n",
    "        print('Happy a good day!' + self.first_name + ' ' + self.last_name)\n",
    "\n",
    "user_1 = User('Jack', 'tom', 30)\n",
    "user_1.describe_user()\n",
    "user_1.greet_user()\n",
    "\n",
    "user_2 = User('G', 'yt', 25)\n",
    "user_2.describe_user()\n",
    "user_2.greet_user()"
   ]
  },
  {
   "cell_type": "code",
   "execution_count": 9,
   "metadata": {},
   "outputs": [
    {
     "name": "stdout",
     "output_type": "stream",
     "text": [
      "0\n",
      "10\n",
      "20\n",
      "40\n"
     ]
    }
   ],
   "source": [
    "# 9-4\n",
    "class Restaurant():\n",
    "    def __init__(self, name, types):\n",
    "        self.restaurant_name = name\n",
    "        self.cuisine_type = types\n",
    "        self.number_served = 0\n",
    "    def describe_restaurant(self):\n",
    "        print(\"The restaurant's name is \" + self.restaurant_name)\n",
    "        print(\"The restaurant's type is \" + self.cuisine_type)\n",
    "    def open_restaurant(self):\n",
    "        print('The restaurant is open!')\n",
    "        \n",
    "    def set_number_served(self, number):\n",
    "        self.number_served = number\n",
    "        \n",
    "    def increment_number_served(self, num):\n",
    "        self.number_served += num\n",
    "        \n",
    "        \n",
    "restaurant = Restaurant('cream', 'ice')\n",
    "print(restaurant.number_served)\n",
    "restaurant.number_served = 10\n",
    "print(restaurant.number_served)\n",
    "\n",
    "restaurant.set_number_served(20)\n",
    "print(restaurant.number_served)\n",
    "\n",
    "restaurant.set_number_served(10)\n",
    "restaurant.increment_number_served(30)\n",
    "print(restaurant.number_served)"
   ]
  },
  {
   "cell_type": "code",
   "execution_count": 10,
   "metadata": {},
   "outputs": [
    {
     "name": "stdout",
     "output_type": "stream",
     "text": [
      "10\n",
      "0\n"
     ]
    }
   ],
   "source": [
    "# 9-5\n",
    "class User():\n",
    "    def __init__(self, first_name, last_name, age):\n",
    "        self.first_name = first_name\n",
    "        self.last_name = last_name\n",
    "        self.age = age\n",
    "        self.login_attempts = 0\n",
    "        \n",
    "    def describe_user(self):\n",
    "        print('name: ' + self.first_name + ' ' + self.last_name, '年龄：' + str(self.age))\n",
    "        \n",
    "    def greet_user(self):\n",
    "        print('Happy a good day!' + self.first_name + ' ' + self.last_name)\n",
    "\n",
    "    def increment_login_attempts(self):\n",
    "        self.login_attempts += 1\n",
    "        \n",
    "    def reset_login_attempts(self):\n",
    "        self.login_attempts = 0\n",
    "        \n",
    "user = User('jack', 'toom', 24)\n",
    "for i in range(10):\n",
    "    user.increment_login_attempts()\n",
    "print(user.login_attempts)\n",
    "\n",
    "user.reset_login_attempts()\n",
    "print(user.login_attempts)"
   ]
  },
  {
   "cell_type": "code",
   "execution_count": 16,
   "metadata": {},
   "outputs": [
    {
     "name": "stdout",
     "output_type": "stream",
     "text": [
      "冰淇淋的口味： ['apple', 'pit']\n"
     ]
    }
   ],
   "source": [
    "# 9-6\n",
    "class Restaurant():\n",
    "    def __init__(self, name, types):\n",
    "        self.restaurant_name = name\n",
    "        self.cuisine_type = type\n",
    "        self.number_served = 0\n",
    "    def describe_restaurant(self):\n",
    "        print(\"The restaurant's name is \" + self.restaurant_name)\n",
    "        print(\"The restaurant's type is \" + self.cuisine_type)\n",
    "    def open_restaurant(self):\n",
    "        print('The restaurant is open!')\n",
    "        \n",
    "    def set_number_served(self, number):\n",
    "        self.number_served = number\n",
    "        \n",
    "    def increment_number_served(self, num):\n",
    "        self.number_served += num\n",
    "        \n",
    "class IceCreamStand(Restaurant):\n",
    "    def __init__(self, name, types, flavors):\n",
    "        super().__init__(name, types)\n",
    "        self.flavors = flavors\n",
    "        \n",
    "    def show_icecream(self):\n",
    "        print(\"冰淇淋的口味：\", self.flavors)\n",
    "        \n",
    "ice_cream = IceCreamStand('Love', 'ice_cream', ['apple', 'pit'])\n",
    "ice_cream.show_icecream()"
   ]
  },
  {
   "cell_type": "code",
   "execution_count": 17,
   "metadata": {},
   "outputs": [
    {
     "name": "stdout",
     "output_type": "stream",
     "text": [
      "管理员的权限有： ['can add post', 'can delete post', 'can ban user']\n",
      "name: Jack ken 年龄：27\n"
     ]
    }
   ],
   "source": [
    "# 9-7\n",
    "class User():\n",
    "    def __init__(self, first_name, last_name, age):\n",
    "        self.first_name = first_name\n",
    "        self.last_name = last_name\n",
    "        self.age = age\n",
    "        \n",
    "    def describe_user(self):\n",
    "        print('name: ' + self.first_name + ' ' + self.last_name, '年龄：' + str(self.age))\n",
    "        \n",
    "    def greet_user(self):\n",
    "        print('Happy a good day!' + self.first_name + ' ' + self.last_name)\n",
    "class Admin(User):\n",
    "    def __init__(self, first_name, last_name, age):\n",
    "        super().__init__(first_name, last_name, age)\n",
    "        self.privileges = ['can add post', 'can delete post', 'can ban user']\n",
    "        \n",
    "    def show_privileges(self):\n",
    "        print(\"管理员的权限有：\", self.privileges)\n",
    "        \n",
    "admin = Admin('Jack', 'ken', 27)\n",
    "admin.show_privileges()\n",
    "admin.describe_user()\n",
    "        \n",
    "        "
   ]
  },
  {
   "cell_type": "code",
   "execution_count": 19,
   "metadata": {},
   "outputs": [
    {
     "name": "stdout",
     "output_type": "stream",
     "text": [
      "管理员的权限有： ['can add post', 'can delete post', 'can ban user']\n",
      "name: Jack ken 年龄：23\n"
     ]
    }
   ],
   "source": [
    "# 9-8\n",
    "class User():\n",
    "    def __init__(self, first_name, last_name, age):\n",
    "        self.first_name = first_name\n",
    "        self.last_name = last_name\n",
    "        self.age = age\n",
    "        \n",
    "    def describe_user(self):\n",
    "        print('name: ' + self.first_name + ' ' + self.last_name, '年龄：' + str(self.age))\n",
    "        \n",
    "    def greet_user(self):\n",
    "        print('Happy a good day!' + self.first_name + ' ' + self.last_name)\n",
    "        \n",
    "class Privileges():\n",
    "    def __init__(self):\n",
    "        self.privileges = ['can add post', 'can delete post', 'can ban user']\n",
    "    \n",
    "    def show_privileges(self):\n",
    "        print(\"管理员的权限有：\", self.privileges)\n",
    "        \n",
    "class Admin(User):\n",
    "    def __init__(self, first_name, last_name, age):\n",
    "        super().__init__(first_name, last_name, age)\n",
    "        self.private = Privileges()\n",
    "        \n",
    "admin = Admin('Jack', 'ken', 23)\n",
    "admin.private.show_privileges()\n",
    "admin.describe_user()"
   ]
  },
  {
   "cell_type": "code",
   "execution_count": 24,
   "metadata": {},
   "outputs": [
    {
     "name": "stdout",
     "output_type": "stream",
     "text": [
      "2016 Tesla Models\n",
      "This car has a 70-kwh battery.\n",
      "This car can go approximately <class 'range'>miles on a full charge.\n",
      "85\n"
     ]
    }
   ],
   "source": [
    "# 9-9\n",
    "class Car():\n",
    "    \n",
    "    def __init__(self, make, model, year):\n",
    "        self.make = make\n",
    "        self.model = model\n",
    "        self.year = year\n",
    "        self.odometer_reading = 0\n",
    "        \n",
    "    def get_descriptive_name(self):\n",
    "        long_name = str(self.year) + ' ' + self.make + ' ' + self.model\n",
    "        return long_name.title()\n",
    "    \n",
    "    def read_odometer(self):\n",
    "        print(\"This car has \" + str(self.odometer_reading) + \" miles on it.\")\n",
    "        \n",
    "    def update_odometer(self):\n",
    "        if mileage >= self.odometer_reading:\n",
    "            self.odometer_reading = mileage\n",
    "        else:\n",
    "            print(\"You can't roll back an odometer!\")\n",
    "            \n",
    "    def increment_odometer(self, miles):\n",
    "        self.odometer_reading += miles\n",
    "        \n",
    "class Battery():\n",
    "    def __init__(self, battery_size=70):\n",
    "        self.battery_size = battery_size\n",
    "        \n",
    "    def describe_battery(self):\n",
    "        print(\"This car has a \" + str(self.battery_size) + \"-kwh battery.\")\n",
    "        \n",
    "    def get_range(self):\n",
    "        if self.battery_size == 70:\n",
    "            range = 240\n",
    "        elif self.battery_size == 85:\n",
    "            range = 270\n",
    "            \n",
    "    def upgrade_battery(self):\n",
    "        if self.battery_size != 85:\n",
    "            self.battery_size = 85\n",
    "            \n",
    "        message = \"This car can go approximately \" + str(range)\n",
    "        message += \"miles on a full charge.\"\n",
    "        print(message)\n",
    "        \n",
    "class ElectricCar(Car):\n",
    "    def __init__(self, make, model, year):\n",
    "        super().__init__(make, model, year)\n",
    "        self.batter = Battery()\n",
    "        \n",
    "my_tesla = ElectricCar('tesla', 'models', 2016)\n",
    "print(my_tesla.get_descriptive_name())\n",
    "my_tesla.batter.describe_battery()\n",
    "my_tesla.batter.get_range()\n",
    "my_tesla.batter.upgrade_battery()\n",
    "print(my_tesla.batter.battery_size)"
   ]
  },
  {
   "cell_type": "code",
   "execution_count": 25,
   "metadata": {},
   "outputs": [],
   "source": [
    "# 10-12在文件夹中"
   ]
  },
  {
   "cell_type": "code",
   "execution_count": 26,
   "metadata": {},
   "outputs": [
    {
     "name": "stdout",
     "output_type": "stream",
     "text": [
      "list: 列表\n",
      "dict: 字典\n",
      "tuple: 元组\n"
     ]
    }
   ],
   "source": [
    "# 9-13\n",
    "from collections import OrderedDict\n",
    "\n",
    "alphabets = OrderedDict()\n",
    "\n",
    "alphabets['list'] = '列表'\n",
    "alphabets['dict'] = '字典'\n",
    "alphabets['tuple'] = '元组'\n",
    "\n",
    "for k, v in alphabets.items():\n",
    "    print(k + ': ' + v)"
   ]
  },
  {
   "cell_type": "code",
   "execution_count": 32,
   "metadata": {},
   "outputs": [
    {
     "name": "stdout",
     "output_type": "stream",
     "text": [
      "6\n",
      "4\n",
      "6\n",
      "1\n",
      "2\n",
      "2\n",
      "4\n",
      "5\n",
      "3\n",
      "2\n",
      "-------------------------\n",
      "2\n",
      "9\n",
      "3\n",
      "1\n",
      "2\n",
      "9\n",
      "10\n",
      "5\n",
      "2\n",
      "5\n",
      "-------------------------\n",
      "20\n",
      "4\n",
      "8\n",
      "6\n",
      "20\n",
      "6\n",
      "11\n",
      "3\n",
      "18\n",
      "5\n"
     ]
    }
   ],
   "source": [
    "# 9-14\n",
    "from random import randint\n",
    "\n",
    "class Die():\n",
    "    def __init__(self, sides=6):\n",
    "        self.sides = sides\n",
    "        \n",
    "    def roll_die(self):\n",
    "        x = randint(1, self.sides)\n",
    "        print(x)\n",
    "        \n",
    "die = Die()\n",
    "for i in range(10):\n",
    "    die.roll_die()\n",
    "print('-------------------------')\n",
    "die1 = Die(10)\n",
    "for i in range(10):\n",
    "    die1.roll_die()\n",
    "print('-------------------------')  \n",
    "die2 = Die(20)\n",
    "for i in range(10):\n",
    "    die2.roll_die()"
   ]
  },
  {
   "cell_type": "code",
   "execution_count": null,
   "metadata": {},
   "outputs": [],
   "source": [
    "# 9-15"
   ]
  },
  {
   "cell_type": "code",
   "execution_count": null,
   "metadata": {},
   "outputs": [],
   "source": []
  }
 ],
 "metadata": {
  "kernelspec": {
   "display_name": "Python 3",
   "language": "python",
   "name": "python3"
  },
  "language_info": {
   "codemirror_mode": {
    "name": "ipython",
    "version": 3
   },
   "file_extension": ".py",
   "mimetype": "text/x-python",
   "name": "python",
   "nbconvert_exporter": "python",
   "pygments_lexer": "ipython3",
   "version": "3.7.3"
  }
 },
 "nbformat": 4,
 "nbformat_minor": 2
}
