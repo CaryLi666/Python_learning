{
 "cells": [
  {
   "cell_type": "markdown",
   "metadata": {},
   "source": [
    "#### 访问列表元素"
   ]
  },
  {
   "cell_type": "code",
   "execution_count": 22,
   "metadata": {
    "collapsed": false
   },
   "outputs": [
    {
     "name": "stdout",
     "output_type": "stream",
     "text": [
      "GYT\n",
      "ZYY\n",
      "CHO\n",
      "GJH\n",
      "HMQ\n"
     ]
    }
   ],
   "source": [
    "# 3-1\n",
    "names = ['GYT', 'ZYY', 'CHO', 'GJH', 'HMQ']\n",
    "print(names[0])\n",
    "print(names[1])\n",
    "print(names[2])\n",
    "print(names[3])\n",
    "print(names[4])"
   ]
  },
  {
   "cell_type": "code",
   "execution_count": 23,
   "metadata": {
    "collapsed": false
   },
   "outputs": [
    {
     "name": "stdout",
     "output_type": "stream",
     "text": [
      "Hello GYT\n",
      "Hello HMQ\n"
     ]
    }
   ],
   "source": [
    "# 3-2\n",
    "print('Hello ' + names[0])\n",
    "print('Hello ' + names[4])"
   ]
  },
  {
   "cell_type": "code",
   "execution_count": 24,
   "metadata": {
    "collapsed": false
   },
   "outputs": [
    {
     "name": "stdout",
     "output_type": "stream",
     "text": [
      "I would like to own a HOnda motocycle\n"
     ]
    }
   ],
   "source": [
    "# 3-3\n",
    "cars = ['motocycle', 'car', 'bike']\n",
    "print('I would like to own a HOnda ' + cars[0])"
   ]
  },
  {
   "cell_type": "code",
   "execution_count": 9,
   "metadata": {
    "collapsed": false
   },
   "outputs": [
    {
     "name": "stdout",
     "output_type": "stream",
     "text": [
      "I want to invite your:  GTC CL ZZY ZBZ\n"
     ]
    }
   ],
   "source": [
    "# 3-4\n",
    "names = ['GTC', 'CL', 'ZZY', 'ZBZ']\n",
    "print(\"I want to invite your: \", names[0], names[1], names[2], names[3])"
   ]
  },
  {
   "cell_type": "code",
   "execution_count": 26,
   "metadata": {
    "collapsed": false
   },
   "outputs": [
    {
     "name": "stdout",
     "output_type": "stream",
     "text": [
      "无法参加的是： CL\n",
      "I want to invite your:  GTC ZHM ZZY ZBZ\n"
     ]
    }
   ],
   "source": [
    "# 3-5\n",
    "print('无法参加的是：', names[1])\n",
    "# 替换嘉宾\n",
    "names[1] = 'ZHM'\n",
    "print(\"I want to invite your: \", names[0], names[1], names[2], names[3])"
   ]
  },
  {
   "cell_type": "code",
   "execution_count": 27,
   "metadata": {
    "collapsed": false
   },
   "outputs": [
    {
     "name": "stdout",
     "output_type": "stream",
     "text": [
      "我们找到了一张更大的餐桌！！！\n",
      "I want to invite your:  CXK GTC ZHM KL ZZY ZBZ GYT\n"
     ]
    }
   ],
   "source": [
    "# 3-6\n",
    "print('我们找到了一张更大的餐桌！！！')\n",
    "names.insert(0, 'CXK')\n",
    "names.insert(3, 'KL')\n",
    "names.append('GYT')\n",
    "print(\"I want to invite your: \", names[0], names[1], names[2], names[3], names[4], names[5], names[6])"
   ]
  },
  {
   "cell_type": "code",
   "execution_count": 28,
   "metadata": {
    "collapsed": false
   },
   "outputs": [
    {
     "name": "stdout",
     "output_type": "stream",
     "text": [
      "因餐桌无法及时送达，我们只能邀请两位嘉宾\n",
      "很抱歉，我们无法邀请你共进晚餐  GYT\n",
      "很抱歉，我们无法邀请你共进晚餐  ZBZ\n",
      "很抱歉，我们无法邀请你共进晚餐  ZZY\n",
      "很抱歉，我们无法邀请你共进晚餐  KL\n",
      "很抱歉，我们无法邀请你共进晚餐  ZHM\n",
      "我们依然可以邀请你， CXK\n",
      "我们依然可以邀请你， GTC\n",
      "[]\n"
     ]
    }
   ],
   "source": [
    "# 3-7\n",
    "print('因餐桌无法及时送达，我们只能邀请两位嘉宾')\n",
    "name_1 = names.pop()\n",
    "print('很抱歉，我们无法邀请你共进晚餐 ', name_1)\n",
    "name_2 = names.pop()\n",
    "print('很抱歉，我们无法邀请你共进晚餐 ', name_2)\n",
    "name_3 = names.pop()\n",
    "print('很抱歉，我们无法邀请你共进晚餐 ', name_3)\n",
    "name_4 = names.pop()\n",
    "print('很抱歉，我们无法邀请你共进晚餐 ', name_4)\n",
    "name_5 = names.pop()\n",
    "print('很抱歉，我们无法邀请你共进晚餐 ', name_5)\n",
    "\n",
    "print('我们依然可以邀请你，', names[0])\n",
    "print('我们依然可以邀请你，', names[1])\n",
    "\n",
    "del names[0]\n",
    "del names[0]\n",
    "print(names)"
   ]
  },
  {
   "cell_type": "code",
   "execution_count": 7,
   "metadata": {
    "collapsed": false
   },
   "outputs": [
    {
     "name": "stdout",
     "output_type": "stream",
     "text": [
      "原列表： ['beijing', 'shagnhai', 'dali', 'hrbin', 'tianjin']\n",
      "临时排序列表： ['beijing', 'dali', 'hrbin', 'shagnhai', 'tianjin']\n",
      "临时排序列表，反序:  ['tianjin', 'shagnhai', 'hrbin', 'dali', 'beijing']\n",
      "倒着打印列表： ['tianjin', 'hrbin', 'dali', 'shagnhai', 'beijing']\n",
      "倒着打印列表： ['beijing', 'shagnhai', 'dali', 'hrbin', 'tianjin']\n",
      "排序，永久排序： ['beijing', 'dali', 'hrbin', 'shagnhai', 'tianjin']\n",
      "反序， 永久排序： ['tianjin', 'shagnhai', 'hrbin', 'dali', 'beijing']\n"
     ]
    }
   ],
   "source": [
    "# 3-8\n",
    "travel_address = ['beijing', 'shagnhai', 'dali', 'hrbin', 'tianjin']\n",
    "print('原列表：',travel_address)\n",
    "\n",
    "print('临时排序列表：', sorted(travel_address))\n",
    "\n",
    "print('临时排序列表，反序: ', sorted(travel_address, reverse=True))\n",
    "\n",
    "travel_address.reverse()\n",
    "print('倒着打印列表：',travel_address)\n",
    "\n",
    "travel_address.reverse()\n",
    "print('倒着打印列表：',travel_address)\n",
    "\n",
    "travel_address.sort()\n",
    "print('排序，永久排序：', travel_address)\n",
    "\n",
    "travel_address.sort(reverse=True)\n",
    "print('反序， 永久排序：', travel_address)"
   ]
  },
  {
   "cell_type": "code",
   "execution_count": 10,
   "metadata": {
    "collapsed": false
   },
   "outputs": [
    {
     "name": "stdout",
     "output_type": "stream",
     "text": [
      "我们一共邀请了：4人\n"
     ]
    }
   ],
   "source": [
    "# 3-9\n",
    "peopele_number = len(names)\n",
    "print('我们一共邀请了：' + str(peopele_number) + '人')"
   ]
  },
  {
   "cell_type": "code",
   "execution_count": 15,
   "metadata": {
    "collapsed": false
   },
   "outputs": [
    {
     "name": "stdout",
     "output_type": "stream",
     "text": [
      "chagnjaign\n",
      "['huangshang', 'chagnjaign', 'china', 'beijing', 'english']\n",
      "['huangshang', 'chagnjaign', 'china', 'beijing', 'english', 'GYT']\n",
      "['huangshang', 'shagnhai', 'chagnjaign', 'china', 'beijing', 'english', 'GYT']\n",
      "['huangshang', 'shagnhai', 'china', 'beijing', 'english', 'GYT']\n",
      "['huangshang', 'shagnhai', 'beijing', 'english', 'GYT']\n",
      "['huangshang', 'shagnhai', 'beijing', 'english']\n",
      "['beijing', 'english', 'huangshang', 'shagnhai']\n",
      "['beijing', 'english', 'huangshang', 'shagnhai']\n",
      "['shagnhai', 'huangshang', 'english', 'beijing']\n",
      "4\n"
     ]
    }
   ],
   "source": [
    "# 3-10\n",
    "all_thing = ['Taishan', 'chagnjaign', 'china', 'beijing', 'english']\n",
    "# 访问列表元素\n",
    "print(all_thing[1])\n",
    "\n",
    "# 修改列表元素\n",
    "all_thing[0] = 'huangshang'\n",
    "print(all_thing)\n",
    "\n",
    "# 添加列表元素\n",
    "all_thing.append('GYT')\n",
    "print(all_thing)\n",
    "all_thing.insert(1, 'shagnhai')\n",
    "print(all_thing)\n",
    "\n",
    "# 删除元素\n",
    "del all_thing[2]\n",
    "print(all_thing)\n",
    "all_thing.pop(2)\n",
    "print(all_thing)\n",
    "all_thing.remove('GYT')\n",
    "print(all_thing)\n",
    "\n",
    "# 排序\n",
    "all_thing.sort()\n",
    "print(all_thing)\n",
    "a = sorted(all_thing)\n",
    "print(a)\n",
    "all_thing.reverse()\n",
    "print(all_thing)\n",
    "\n",
    "# 列表长度\n",
    "print(len(all_thing))"
   ]
  },
  {
   "cell_type": "code",
   "execution_count": null,
   "metadata": {
    "collapsed": true
   },
   "outputs": [],
   "source": [
    "# 3-11\n"
   ]
  }
 ],
 "metadata": {
  "anaconda-cloud": {},
  "kernelspec": {
   "display_name": "Python [conda root]",
   "language": "python",
   "name": "conda-root-py"
  },
  "language_info": {
   "codemirror_mode": {
    "name": "ipython",
    "version": 3
   },
   "file_extension": ".py",
   "mimetype": "text/x-python",
   "name": "python",
   "nbconvert_exporter": "python",
   "pygments_lexer": "ipython3",
   "version": "3.5.2"
  }
 },
 "nbformat": 4,
 "nbformat_minor": 1
}
