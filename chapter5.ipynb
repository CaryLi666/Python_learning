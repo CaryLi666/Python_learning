{
 "cells": [
  {
   "cell_type": "code",
   "execution_count": 8,
   "metadata": {},
   "outputs": [
    {
     "name": "stdout",
     "output_type": "stream",
     "text": [
      "Is food == 'banana'? I predict False.\n",
      "False\n",
      "\n",
      "Is car == 'bmw'? I predict True.\n",
      "True\n",
      "False\n",
      "True\n",
      "False\n",
      "True\n",
      "true\n",
      "True\n",
      "False\n"
     ]
    }
   ],
   "source": [
    "# 5-1\n",
    "food = 'apple'\n",
    "print(\"Is food == 'banana'? I predict False.\")\n",
    "print(food == 'banana')\n",
    "\n",
    "car = 'bmw'\n",
    "print(\"\\nIs car == 'bmw'? I predict True.\")\n",
    "print(car == 'bmw')\n",
    "\n",
    "print(1 == 3)\n",
    "\n",
    "print(1 < 2 and 3 < 5)\n",
    "\n",
    "print(3 > 5)\n",
    "\n",
    "print(3 > 2 or 1 < 2)\n",
    "\n",
    "alphabet = ['a', 'b', 'c', 'd']\n",
    "if 'a' in alphabet:\n",
    "    print('true')\n",
    "    \n",
    "if 'a' not in alphabet:\n",
    "    print('False')\n",
    "    \n",
    "ac = True\n",
    "print(ac)\n",
    "\n",
    "bc = False\n",
    "print(bc)"
   ]
  },
  {
   "cell_type": "code",
   "execution_count": 9,
   "metadata": {},
   "outputs": [
    {
     "name": "stdout",
     "output_type": "stream",
     "text": [
      "False\n",
      "True\n"
     ]
    }
   ],
   "source": [
    "# 5-2\n",
    "str_a = 'acd'\n",
    "str_b = 'bcd'\n",
    "print(str_a == str_b)\n",
    "\n",
    "str_a = 'ACD'\n",
    "print(str_a.lower() == 'acd')\n",
    "\n",
    "print(1 == 1)\n",
    "print(3 < 2)\n",
    "print( 2 != 3)\n",
    "print( 4 > 2)"
   ]
  },
  {
   "cell_type": "code",
   "execution_count": 10,
   "metadata": {},
   "outputs": [
    {
     "name": "stdout",
     "output_type": "stream",
     "text": [
      "玩家获得了5个点\n"
     ]
    }
   ],
   "source": [
    "# 5-3\n",
    "alien_color = 'green'\n",
    "if alien_color == 'green':\n",
    "    print('玩家获得了5个点')"
   ]
  },
  {
   "cell_type": "code",
   "execution_count": 12,
   "metadata": {},
   "outputs": [],
   "source": [
    "alien_color = 'red'\n",
    "if alien_color == 'green':\n",
    "    print('玩家获得了五个点')"
   ]
  },
  {
   "cell_type": "code",
   "execution_count": 13,
   "metadata": {},
   "outputs": [
    {
     "name": "stdout",
     "output_type": "stream",
     "text": [
      "玩家获得了5个点\n"
     ]
    }
   ],
   "source": [
    "# 5-4\n",
    "alien_color = 'green'\n",
    "if alien_color == 'green':\n",
    "    print('玩家获得了5个点')\n",
    "else:\n",
    "    print('玩家获得了10个点')"
   ]
  },
  {
   "cell_type": "code",
   "execution_count": 15,
   "metadata": {},
   "outputs": [
    {
     "name": "stdout",
     "output_type": "stream",
     "text": [
      "玩家获得了10个点\n"
     ]
    }
   ],
   "source": [
    "alien_color = 'yellow'\n",
    "if alien_color == 'green':\n",
    "    print('玩家获得了五个点')\n",
    "else:\n",
    "    print('玩家获得了10个点')"
   ]
  },
  {
   "cell_type": "code",
   "execution_count": 16,
   "metadata": {},
   "outputs": [
    {
     "name": "stdout",
     "output_type": "stream",
     "text": [
      "玩家获得了5个点\n"
     ]
    }
   ],
   "source": [
    "# 5-5\n",
    "alien_color = 'green'\n",
    "if alien_color == 'green':\n",
    "    print('玩家获得了5个点')\n",
    "elif alien_color == 'yellow':\n",
    "    print('玩家获得了10个点')\n",
    "else:\n",
    "    print('玩家获得了15个点')"
   ]
  },
  {
   "cell_type": "code",
   "execution_count": 17,
   "metadata": {},
   "outputs": [
    {
     "name": "stdout",
     "output_type": "stream",
     "text": [
      "玩家获得了10个点\n"
     ]
    }
   ],
   "source": [
    "alien_color = 'yellow'\n",
    "if alien_color == 'green':\n",
    "    print('玩家获得了5个点')\n",
    "elif alien_color == 'yellow':\n",
    "    print('玩家获得了10个点')\n",
    "else:\n",
    "    print('玩家获得了15个点')"
   ]
  },
  {
   "cell_type": "code",
   "execution_count": 18,
   "metadata": {},
   "outputs": [
    {
     "name": "stdout",
     "output_type": "stream",
     "text": [
      "玩家获得了15个点\n"
     ]
    }
   ],
   "source": [
    "alien_color = 'red'\n",
    "if alien_color == 'green':\n",
    "    print('玩家获得了5个点')\n",
    "elif alien_color == 'yellow':\n",
    "    print('玩家获得了10个点')\n",
    "else:\n",
    "    print('玩家获得了15个点')"
   ]
  },
  {
   "cell_type": "code",
   "execution_count": 19,
   "metadata": {},
   "outputs": [
    {
     "name": "stdout",
     "output_type": "stream",
     "text": [
      "青少年\n"
     ]
    }
   ],
   "source": [
    "# 5-6\n",
    "age = 18\n",
    "if age < 2:\n",
    "    print('婴儿')\n",
    "elif 2 <= age < 4:\n",
    "    print('蹒跚学步')\n",
    "elif 4 <= age < 13:\n",
    "    print('儿童')\n",
    "elif 13 <= age < 20:\n",
    "    print('青少年')\n",
    "elif 20 <= age < 65:\n",
    "    print('成年人')\n",
    "else:\n",
    "    print('老年人')"
   ]
  },
  {
   "cell_type": "code",
   "execution_count": 20,
   "metadata": {},
   "outputs": [
    {
     "name": "stdout",
     "output_type": "stream",
     "text": [
      "You really like apple!\n",
      "You really like bananas!\n",
      "You really like pear!\n"
     ]
    }
   ],
   "source": [
    "# 5-7\n",
    "favorite_fruits = ['apple', 'banana', 'pear']\n",
    "if 'apple' in favorite_fruits:\n",
    "    print('You really like apple!')\n",
    "if 'banana' in favorite_fruits:\n",
    "    print('You really like bananas!')\n",
    "if 'pear' in favorite_fruits:\n",
    "    print('You really like pear!')\n",
    "if 'tomato' in favorite_fruits:\n",
    "    print('You really like tomato')\n",
    "if 'strawberry' in favorite_fruits:\n",
    "    print('You really like strawberry')"
   ]
  },
  {
   "cell_type": "code",
   "execution_count": 21,
   "metadata": {},
   "outputs": [
    {
     "name": "stdout",
     "output_type": "stream",
     "text": [
      "Hello gyt, thank you for logging in again\n",
      "Hello admin, would you like to see a status report?\n",
      "Hello yxl, thank you for logging in again\n",
      "Hello jack, thank you for logging in again\n",
      "Hello rose, thank you for logging in again\n"
     ]
    }
   ],
   "source": [
    "# 5-8\n",
    "names = ['gyt', 'admin', 'yxl', 'jack', 'rose']\n",
    "for name in names:\n",
    "    if name == 'admin':\n",
    "        print('Hello admin, would you like to see a status report?')\n",
    "    else:\n",
    "        print('Hello ' + name + ', thank you for logging in again')"
   ]
  },
  {
   "cell_type": "code",
   "execution_count": 29,
   "metadata": {},
   "outputs": [
    {
     "name": "stdout",
     "output_type": "stream",
     "text": [
      "We need to find some users\n"
     ]
    }
   ],
   "source": [
    "# 5-9\n",
    "names = []\n",
    "if names == []:\n",
    "    print('We need to find some users')\n",
    "else:\n",
    "    for name in names:\n",
    "        if name == 'admin':\n",
    "            print('Hello admin, would you like to see a status report?')\n",
    "        else:\n",
    "            print('Hello ' + name + ', thank you for logging in again')"
   ]
  },
  {
   "cell_type": "code",
   "execution_count": 30,
   "metadata": {},
   "outputs": [
    {
     "name": "stdout",
     "output_type": "stream",
     "text": [
      "ken 用户名未被使用！\n",
      "jrdon 用户名未被使用！\n",
      "jack 用户名已经被使用，请使用别的用户名！\n",
      "paul 用户名未被使用！\n",
      "admin 用户名已经被使用，请使用别的用户名！\n"
     ]
    }
   ],
   "source": [
    "# 5-10\n",
    "current_users = ['gyt', 'admin', 'yxl', 'jack', 'rose']\n",
    "new_users = ['ken', 'jrdon', 'jack', 'paul', 'admin']\n",
    "for new_user in new_users:\n",
    "    if new_user.lower() in current_users:\n",
    "        print(new_user + ' 用户名已经被使用，请使用别的用户名！')\n",
    "    else:\n",
    "        print(new_user + ' 用户名未被使用！')"
   ]
  },
  {
   "cell_type": "code",
   "execution_count": 31,
   "metadata": {},
   "outputs": [
    {
     "name": "stdout",
     "output_type": "stream",
     "text": [
      "1st\n",
      "2nd\n",
      "3rd\n",
      "4th\n",
      "5th\n",
      "6th\n",
      "7th\n",
      "8th\n",
      "9th\n"
     ]
    }
   ],
   "source": [
    "# 5-11\n",
    "numbers = [1, 2, 3, 4, 5, 6, 7, 8, 9]\n",
    "for number in numbers:\n",
    "    if number == 1:\n",
    "        print('1st')\n",
    "    elif number == 2:\n",
    "        print('2nd')\n",
    "    elif number == 3:\n",
    "        print('3rd')\n",
    "    else:\n",
    "        print(str(number) + 'th')"
   ]
  },
  {
   "cell_type": "code",
   "execution_count": null,
   "metadata": {},
   "outputs": [],
   "source": [
    "# 5-12\n",
    "# 5-13"
   ]
  }
 ],
 "metadata": {
  "kernelspec": {
   "display_name": "Python 3",
   "language": "python",
   "name": "python3"
  },
  "language_info": {
   "codemirror_mode": {
    "name": "ipython",
    "version": 3
   },
   "file_extension": ".py",
   "mimetype": "text/x-python",
   "name": "python",
   "nbconvert_exporter": "python",
   "pygments_lexer": "ipython3",
   "version": "3.7.3"
  }
 },
 "nbformat": 4,
 "nbformat_minor": 2
}
