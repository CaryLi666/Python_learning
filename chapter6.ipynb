{
 "cells": [
  {
   "cell_type": "code",
   "execution_count": 1,
   "metadata": {},
   "outputs": [
    {
     "name": "stdout",
     "output_type": "stream",
     "text": [
      "guo\n",
      "yuantao\n",
      "26\n",
      "daqing\n"
     ]
    }
   ],
   "source": [
    "# 6-1\n",
    "informations = {'first_name': 'guo', 'last_name': 'yuantao', 'age': 26, 'city': 'daqing'}\n",
    "print(informations['first_name'])\n",
    "print(informations['last_name'])\n",
    "print(informations['age'])\n",
    "print(informations['city'])"
   ]
  },
  {
   "cell_type": "code",
   "execution_count": 3,
   "metadata": {},
   "outputs": [
    {
     "name": "stdout",
     "output_type": "stream",
     "text": [
      "jack:  3\n",
      "rose:  8\n",
      "ken:  9\n",
      "paul:  2\n",
      "gyt:  1\n"
     ]
    }
   ],
   "source": [
    "# 6-2\n",
    "favorites_number = {'jack': 3, 'rose': 8, 'ken': 9, 'paul': 2, 'gyt': 1}\n",
    "print('jack: ', favorites_number['jack'])\n",
    "print('rose: ', favorites_number['rose'])\n",
    "print('ken: ', favorites_number['ken'])\n",
    "print('paul: ', favorites_number['paul'])\n",
    "print('gyt: ', favorites_number['gyt'])"
   ]
  },
  {
   "cell_type": "code",
   "execution_count": 4,
   "metadata": {},
   "outputs": [
    {
     "name": "stdout",
     "output_type": "stream",
     "text": [
      "language: 语言\n",
      "apple: 苹果\n",
      "banana: 香蕉\n",
      "color: 颜色\n",
      "green: 绿色的\n"
     ]
    }
   ],
   "source": [
    "# 6-3\n",
    "alphabets = {'language': '语言', 'apple': '苹果', 'banana': '香蕉', 'color': '颜色', 'green': '绿色的'}\n",
    "print('language:', alphabets['language'])\n",
    "print('apple:', alphabets['apple'])\n",
    "print('banana:', alphabets['banana'])\n",
    "print('color:', alphabets['color'])\n",
    "print('green:', alphabets['green'])"
   ]
  },
  {
   "cell_type": "code",
   "execution_count": 9,
   "metadata": {},
   "outputs": [
    {
     "name": "stdout",
     "output_type": "stream",
     "text": [
      "language:语言\n",
      "apple:苹果\n",
      "banana:香蕉\n",
      "color:颜色\n",
      "green:绿色的\n",
      "dict:字典\n",
      "set:集合\n",
      "list:列表\n",
      "tuple:元组\n",
      "str:字符串\n"
     ]
    }
   ],
   "source": [
    "# 6-4\n",
    "alphabets = {'language': '语言', 'apple': '苹果', 'banana': '香蕉', 'color': '颜色', 'green': '绿色的',\n",
    "            'dict': '字典', 'set': '集合', 'list': '列表', 'tuple': '元组', 'str': '字符串'}\n",
    "for k, v in alphabets.items():\n",
    "    print(k + ':' + v)"
   ]
  },
  {
   "cell_type": "code",
   "execution_count": 10,
   "metadata": {},
   "outputs": [
    {
     "name": "stdout",
     "output_type": "stream",
     "text": [
      "The Changjaingruns through China.\n",
      "The Huangheruns through China.\n",
      "The Nileruns through Eygpt.\n",
      "changjaing\n",
      "huanghe\n",
      "nile\n",
      "china\n",
      "china\n",
      "eygpt\n"
     ]
    }
   ],
   "source": [
    "# 6-5\n",
    "rivers = {'changjaing': 'china', 'huanghe': 'china', 'nile': 'eygpt'}\n",
    "for k, v in rivers.items():\n",
    "    print('The ' + k.title() + 'runs through ' + v.title() + '.')\n",
    "for k in rivers.keys():\n",
    "    print(k)\n",
    "for v in rivers.values():\n",
    "    print(v)"
   ]
  },
  {
   "cell_type": "code",
   "execution_count": 11,
   "metadata": {},
   "outputs": [
    {
     "name": "stdout",
     "output_type": "stream",
     "text": [
      "Jen 感谢您参与调查！\n",
      "Edward 感谢您参与调查！\n",
      "Jack 请您参与调差！\n",
      "Rose 请您参与调差！\n"
     ]
    }
   ],
   "source": [
    "# 6-6\n",
    "favorite_languges = {'jen': 'python', 'sarah': 'c', 'edward': 'ruby', 'phil': 'python',}\n",
    "names = ['jen', 'edward', 'jack', 'rose']\n",
    "for name in names:\n",
    "    if name in favorite_languges.keys():\n",
    "        print(name.title() + ' 感谢您参与调查！')\n",
    "    else:\n",
    "        print(name.title() + ' 请您参与调差！')"
   ]
  },
  {
   "cell_type": "code",
   "execution_count": 12,
   "metadata": {},
   "outputs": [
    {
     "name": "stdout",
     "output_type": "stream",
     "text": [
      "{'first_name': 'guo', 'last_name': 'yuantao', 'age': 26, 'city': 'daqing'}\n",
      "{'first_name': 'yu', 'last_name': 'xiaolan', 'age': '27', 'city': 'hefei'}\n",
      "{'first_name': 'wang', 'last_name': 'yuhong', 'age': '27', 'city': 'beijing'}\n"
     ]
    }
   ],
   "source": [
    "# 6-7\n",
    "first_people = {'first_name': 'guo', 'last_name': 'yuantao', 'age': 26, 'city': 'daqing'}\n",
    "second_people = {'first_name': 'yu', 'last_name': 'xiaolan', 'age': '27', 'city': 'hefei'}\n",
    "third_people = {'first_name': 'wang', 'last_name': 'yuhong', 'age': '27', 'city': 'beijing'}\n",
    "\n",
    "peoples = [first_people, second_people, third_people]\n",
    "for people in peoples:\n",
    "    print(people)"
   ]
  },
  {
   "cell_type": "code",
   "execution_count": 13,
   "metadata": {},
   "outputs": [
    {
     "name": "stdout",
     "output_type": "stream",
     "text": [
      "{'host_name': 'jack', 'type': '哈士奇'}\n",
      "{'host_name': 'rose', 'type': '藏獒'}\n",
      "{'host_name': 'ken', 'type': '吉娃娃'}\n"
     ]
    }
   ],
   "source": [
    "# 6-8\n",
    "dog_1 = {'host_name': 'jack', 'type': '哈士奇'}\n",
    "dog_2 = {'host_name': 'rose', 'type': '藏獒'}\n",
    "dog_3 = {'host_name': 'ken', 'type': '吉娃娃'}\n",
    "pets = [dog_1, dog_2, dog_3]\n",
    "for pet in pets:\n",
    "    print(pet)"
   ]
  },
  {
   "cell_type": "code",
   "execution_count": 15,
   "metadata": {},
   "outputs": [
    {
     "name": "stdout",
     "output_type": "stream",
     "text": [
      "jack favorite's places:  ['shanghai', 'beijing', 'hongkong']\n",
      "rose favorite's places:  ['hrbin', 'shenyang']\n",
      "jen favorite's places:  ['changcun']\n"
     ]
    }
   ],
   "source": [
    "# 6-9\n",
    "favorite_places = {\n",
    "    'jack': ['shanghai', 'beijing', 'hongkong'],\n",
    "    'rose': ['hrbin', 'shenyang'],\n",
    "    'jen': ['changcun']\n",
    "}\n",
    "for k, v in favorite_places.items():\n",
    "    print(k + \" favorite's places: \", v)\n",
    "    "
   ]
  },
  {
   "cell_type": "code",
   "execution_count": 16,
   "metadata": {},
   "outputs": [
    {
     "name": "stdout",
     "output_type": "stream",
     "text": [
      "jack favorite's number is  [3, 4, 5]\n",
      "rose favorite's number is  [5, 7, 9, 8]\n",
      "ken favorite's number is  [1, 2]\n",
      "paul favorite's number is  [2]\n",
      "gyt favorite's number is  [4, 5]\n"
     ]
    }
   ],
   "source": [
    "# 6-10\n",
    "favorites_number = {'jack': [3, 4, 5], \n",
    "                    'rose': [5, 7, 9, 8], \n",
    "                    'ken': [1, 2], \n",
    "                    'paul': [2], \n",
    "                    'gyt': [4, 5],\n",
    "                   }\n",
    "for name, num in favorites_number.items():\n",
    "    print(name + \" favorite's number is \", num)"
   ]
  },
  {
   "cell_type": "code",
   "execution_count": 24,
   "metadata": {},
   "outputs": [
    {
     "name": "stdout",
     "output_type": "stream",
     "text": [
      "beijing:  {'country': 'china', 'population': '6000万', 'fact': '首都'}\n",
      "paris:  {'country': 'frence', 'population': '2000万', 'fact': '卢浮宫'}\n",
      "shanghai:  {'country': 'china', 'population': '7000万', 'fact': '经济'}\n"
     ]
    }
   ],
   "source": [
    "# 6-11\n",
    "cities = {\n",
    "    'beijing':{'country': 'china', 'population': '6000万', 'fact': '首都'},\n",
    "    'paris':{'country': 'frence', 'population': '2000万', 'fact': '卢浮宫'},\n",
    "    'shanghai':{'country': 'china', 'population': '7000万', 'fact': '经济'},\n",
    "}\n",
    "for name, value in cities.items():\n",
    "    print(name + ': ', value)"
   ]
  },
  {
   "cell_type": "code",
   "execution_count": null,
   "metadata": {},
   "outputs": [],
   "source": [
    "# 6-12\n",
    "favorite_languges = {'jen': 'python', 'sarah': 'c', 'edward': 'ruby', 'phil': 'python',}\n",
    "names = ['jen', 'edward', 'jack', 'rose']\n",
    "for name in names:\n",
    "    if name in favorite_languges.keys():\n",
    "        print(name + 'favorite languages is :' fa)"
   ]
  }
 ],
 "metadata": {
  "kernelspec": {
   "display_name": "Python 3",
   "language": "python",
   "name": "python3"
  },
  "language_info": {
   "codemirror_mode": {
    "name": "ipython",
    "version": 3
   },
   "file_extension": ".py",
   "mimetype": "text/x-python",
   "name": "python",
   "nbconvert_exporter": "python",
   "pygments_lexer": "ipython3",
   "version": "3.7.3"
  }
 },
 "nbformat": 4,
 "nbformat_minor": 2
}
