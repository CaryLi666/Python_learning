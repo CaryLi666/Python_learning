{
 "cells": [
  {
   "cell_type": "code",
   "execution_count": 1,
   "metadata": {},
   "outputs": [
    {
     "name": "stdout",
     "output_type": "stream",
     "text": [
      "我在本章学习的是函数！\n"
     ]
    }
   ],
   "source": [
    "# 8-1\n",
    "def display_message():\n",
    "    print('我在本章学习的是函数！')\n",
    "display_message()"
   ]
  },
  {
   "cell_type": "code",
   "execution_count": 2,
   "metadata": {},
   "outputs": [
    {
     "name": "stdout",
     "output_type": "stream",
     "text": [
      "One of favorite books is Alice in Wonderland\n"
     ]
    }
   ],
   "source": [
    "# 8-2\n",
    "def favorite_book(title):\n",
    "    print('One of favorite books is ' + title)\n",
    "    \n",
    "favorite_book('Alice in Wonderland')"
   ]
  },
  {
   "cell_type": "code",
   "execution_count": 5,
   "metadata": {},
   "outputs": [
    {
     "name": "stdout",
     "output_type": "stream",
     "text": [
      "T恤的大小为：xxl\n",
      "T恤上印的字样为：I love china\n",
      "\n",
      "\n",
      "T恤的大小为：xl\n",
      "T恤上印的字样为：Beijing\n"
     ]
    }
   ],
   "source": [
    "# 8-3\n",
    "def make_shirt(size, text):\n",
    "    print(\"T恤的大小为：\" + str(size))\n",
    "    print(\"T恤上印的字样为：\" + text)\n",
    "\n",
    "# 位置实参\n",
    "make_shirt('xxl', 'I love china')\n",
    "print('\\n')\n",
    "# 关键字参数\n",
    "make_shirt(text='Beijing', size='xl')"
   ]
  },
  {
   "cell_type": "code",
   "execution_count": 6,
   "metadata": {},
   "outputs": [
    {
     "name": "stdout",
     "output_type": "stream",
     "text": [
      "T恤的大小为：大号\n",
      "T恤上印的字样为：I love Python\n",
      "\n",
      "\n",
      "T恤的大小为：中号\n",
      "T恤上印的字样为：I love Python\n",
      "\n",
      "\n",
      "T恤的大小为：小号\n",
      "T恤上印的字样为：I love C\n"
     ]
    }
   ],
   "source": [
    "# 8-4\n",
    "def make_shirt(size, text='I love Python'):\n",
    "    print(\"T恤的大小为：\" + str(size))\n",
    "    print(\"T恤上印的字样为：\" + text)\n",
    "make_shirt('大号')\n",
    "print('\\n')\n",
    "make_shirt('中号')\n",
    "print('\\n')\n",
    "make_shirt('小号', text='I love C')"
   ]
  },
  {
   "cell_type": "code",
   "execution_count": 7,
   "metadata": {},
   "outputs": [
    {
     "name": "stdout",
     "output_type": "stream",
     "text": [
      "Beijing is in China\n",
      "Shanghai is in China\n",
      "Tokyo is in Japanese\n"
     ]
    }
   ],
   "source": [
    "# 8-5\n",
    "def describe_city(city, country='China'):\n",
    "    print(city + ' is in ' + country)\n",
    "\n",
    "describe_city('Beijing')\n",
    "describe_city('Shanghai')\n",
    "describe_city('Tokyo', 'Japanese')"
   ]
  },
  {
   "cell_type": "code",
   "execution_count": 9,
   "metadata": {},
   "outputs": [
    {
     "name": "stdout",
     "output_type": "stream",
     "text": [
      "Beijing, China\n",
      "Shanghai, China\n",
      "Tokyo, Japanese\n"
     ]
    }
   ],
   "source": [
    "# 8-6\n",
    "def city_country(city, country):\n",
    "    message = city + ', ' + country\n",
    "    return message\n",
    "ret1 = city_country('Beijing', 'China')\n",
    "print(ret1)\n",
    "\n",
    "ret2 = city_country('Shanghai', 'China')\n",
    "print(ret2)\n",
    "\n",
    "ret3 = city_country('Tokyo', 'Japanese')\n",
    "print(ret3)"
   ]
  },
  {
   "cell_type": "code",
   "execution_count": 12,
   "metadata": {},
   "outputs": [
    {
     "name": "stdout",
     "output_type": "stream",
     "text": [
      "{'name': 'JJ', 'album': 'Love'}\n",
      "{'name': 'KK', 'album': 'ME'}\n"
     ]
    }
   ],
   "source": [
    "# 8-7\n",
    "def make_album(name, album):\n",
    "    informations = {'name': name, 'album': album}\n",
    "    return informations\n",
    "info1 = make_album('JJ', 'Love')\n",
    "print(info1)\n",
    "info2 = make_album('KK', 'ME')\n",
    "print(info2)"
   ]
  },
  {
   "cell_type": "code",
   "execution_count": 14,
   "metadata": {},
   "outputs": [
    {
     "name": "stdout",
     "output_type": "stream",
     "text": [
      "{'name': 'JJ', 'album': 'YOU', 'num': 10}\n"
     ]
    }
   ],
   "source": [
    "def make_album(name, album, num=''):\n",
    "    informations = {'name': name, 'album': album}\n",
    "    if num:\n",
    "        informations['num'] = num\n",
    "    return informations\n",
    "info = make_album('JJ', 'YOU', num=10)\n",
    "print(info)"
   ]
  },
  {
   "cell_type": "code",
   "execution_count": 16,
   "metadata": {},
   "outputs": [
    {
     "name": "stdout",
     "output_type": "stream",
     "text": [
      "(enter \"q\" at any time to quit)\n",
      "name: KK\n",
      "album: ME\n",
      "{'name': 'KK', 'album': 'ME'}\n",
      "(enter \"q\" at any time to quit)\n",
      "name: q\n"
     ]
    }
   ],
   "source": [
    "# 8-8\n",
    "def make_album(name, album):\n",
    "    informations = {'name': name, 'album': album}\n",
    "    return informations\n",
    "\n",
    "while True:\n",
    "    print('(enter \"q\" at any time to quit)')\n",
    "    \n",
    "    name = input('name: ')\n",
    "    if name == 'q':\n",
    "        break\n",
    "    album = input('album: ')\n",
    "    if album == 'q':\n",
    "        break\n",
    "    info = make_album(name, album)\n",
    "    print(info)"
   ]
  },
  {
   "cell_type": "code",
   "execution_count": 17,
   "metadata": {},
   "outputs": [
    {
     "name": "stdout",
     "output_type": "stream",
     "text": [
      "liuqian\n",
      "kebo\n",
      "gyt\n"
     ]
    }
   ],
   "source": [
    "# 8-9\n",
    "magic = ['liuqian', 'kebo', 'gyt']\n",
    "def show_magicians(magics):\n",
    "    for magic in magics:\n",
    "        print(magic)\n",
    "show_magicians(magic)"
   ]
  },
  {
   "cell_type": "code",
   "execution_count": 24,
   "metadata": {},
   "outputs": [
    {
     "name": "stdout",
     "output_type": "stream",
     "text": [
      "the Great liuqian\n",
      "the Great kebo\n",
      "the Great gyt\n"
     ]
    }
   ],
   "source": [
    "# 8-10\n",
    "magic = ['liuqian', 'kebo', 'gyt']\n",
    "def make_great(magics):\n",
    "    for i in range(len(magics)):\n",
    "        magics[i] = 'the Great ' + magics[i]\n",
    "        \n",
    "\n",
    "def show_magicians(magics):\n",
    "    for magic in magics:\n",
    "        print(magic)\n",
    "make_great(magic)\n",
    "show_magicians(magic)"
   ]
  },
  {
   "cell_type": "code",
   "execution_count": 28,
   "metadata": {},
   "outputs": [
    {
     "name": "stdout",
     "output_type": "stream",
     "text": [
      "liuqian\n",
      "kebo\n",
      "gyt\n",
      "the Great liuqian\n",
      "the Great kebo\n",
      "the Great gyt\n"
     ]
    }
   ],
   "source": [
    "# 8-11\n",
    "un_magic = ['liuqian', 'kebo', 'gyt']\n",
    "magic = []\n",
    "def make_great(magics):\n",
    "    for i in range(len(magics)):\n",
    "        info = 'the Great ' + magics[i]\n",
    "        magic.append(info)\n",
    "def show_magicians(magics):\n",
    "    for magic in magics:\n",
    "        print(magic)\n",
    "make_great(un_magic[:])\n",
    "show_magicians(un_magic)\n",
    "show_magicians(magic)"
   ]
  },
  {
   "cell_type": "code",
   "execution_count": 31,
   "metadata": {},
   "outputs": [
    {
     "name": "stdout",
     "output_type": "stream",
     "text": [
      "顾客要添加的食材：\n",
      "- apple\n",
      "- egg\n",
      "\n",
      "\n",
      "顾客要添加的食材：\n",
      "- banana\n",
      "- salad\n",
      "- egg\n"
     ]
    }
   ],
   "source": [
    "# 8-12\n",
    "def make_sandwich(*args):\n",
    "    print('顾客要添加的食材：')\n",
    "    for name in args:\n",
    "        print('- ' + name)\n",
    "make_sandwich('apple', 'egg')\n",
    "print('\\n')\n",
    "make_sandwich('banana', 'salad', 'egg')"
   ]
  },
  {
   "cell_type": "code",
   "execution_count": 32,
   "metadata": {},
   "outputs": [
    {
     "name": "stdout",
     "output_type": "stream",
     "text": [
      "{'first_name': 'guo', 'last_name': 'yuantal', 'age': 27, 'sex': 'man', 'height': 190}\n"
     ]
    }
   ],
   "source": [
    "# 8-13\n",
    "def build_profile(first, last, **user_info):\n",
    "    profile = {}\n",
    "    profile['first_name'] = first\n",
    "    profile['last_name'] = last\n",
    "    for key, value in user_info.items():\n",
    "        profile[key] = value\n",
    "    return profile\n",
    "\n",
    "user_profile = build_profile('guo', 'yuantal', age=27, sex='man', height=190)\n",
    "print(user_profile)"
   ]
  },
  {
   "cell_type": "code",
   "execution_count": 33,
   "metadata": {},
   "outputs": [
    {
     "name": "stdout",
     "output_type": "stream",
     "text": [
      "{'car_sale': 'subaru', 'car_type': 'outback', 'color': 'blue', 'tow_package': True}\n"
     ]
    }
   ],
   "source": [
    "# 8-14\n",
    "def make_car(car_sale, car_type, **kwargs):\n",
    "    car_info = {}\n",
    "    car_info['car_sale'] = car_sale\n",
    "    car_info['car_type'] = car_type\n",
    "    for key, value in kwargs.items():\n",
    "        car_info[key] = value\n",
    "    return car_info\n",
    "\n",
    "car = make_car('subaru', 'outback', color='blue', tow_package=True)\n",
    "print(car)"
   ]
  },
  {
   "cell_type": "code",
   "execution_count": 35,
   "metadata": {},
   "outputs": [],
   "source": [
    "# 8-15"
   ]
  },
  {
   "cell_type": "code",
   "execution_count": 36,
   "metadata": {},
   "outputs": [],
   "source": [
    "# 8-16\n",
    "import numpy\n",
    "from numpy import zeros\n",
    "from numpy import zeros as z\n",
    "import numpy as np\n",
    "from numpy import *"
   ]
  },
  {
   "cell_type": "code",
   "execution_count": null,
   "metadata": {},
   "outputs": [],
   "source": [
    "# 8-17"
   ]
  }
 ],
 "metadata": {
  "kernelspec": {
   "display_name": "Python 3",
   "language": "python",
   "name": "python3"
  },
  "language_info": {
   "codemirror_mode": {
    "name": "ipython",
    "version": 3
   },
   "file_extension": ".py",
   "mimetype": "text/x-python",
   "name": "python",
   "nbconvert_exporter": "python",
   "pygments_lexer": "ipython3",
   "version": "3.7.3"
  }
 },
 "nbformat": 4,
 "nbformat_minor": 2
}
